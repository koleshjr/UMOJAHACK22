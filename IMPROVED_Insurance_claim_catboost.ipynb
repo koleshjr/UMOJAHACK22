{
  "cells": [
    {
      "cell_type": "markdown",
      "metadata": {
        "id": "CZXFwuDhen4h"
      },
      "source": [
        "#INSURANCE CLAIM NOTEBOOK VERSION 2 "
      ],
      "id": "CZXFwuDhen4h"
    },
    {
      "cell_type": "markdown",
      "source": [
        "<a id=\"load_package\"/><br/>\n",
        "# INTRODUCTION"
      ],
      "metadata": {
        "id": "I7MX3mzrLFb_"
      },
      "id": "I7MX3mzrLFb_"
    },
    {
      "cell_type": "markdown",
      "source": [
        "Special shoutout to:\n",
        "https://github.com/osinkolu/Umoja-Hack-Africa-2022/blob/main/2nd_Place_Intermediate_Umoja2022_Intermediate.ipynb\n",
        "\n",
        "This notebook has helped me realise what i was doing wrong. I merged the policies data without grouping them. The policy_number in policies had duplicates and as i was merging in my first notebook i lost a lot of useful information since i dropped the duplicates \n",
        "\n",
        " \n"
      ],
      "metadata": {
        "id": "bMjGPIOuKEn4"
      },
      "id": "bMjGPIOuKEn4"
    },
    {
      "cell_type": "markdown",
      "source": [
        "<a id=\"load_package\"/><br/>\n",
        "# LOADING NECESSARY LIBRARIES"
      ],
      "metadata": {
        "id": "jQntMtkyLTRe"
      },
      "id": "jQntMtkyLTRe"
    },
    {
      "cell_type": "code",
      "execution_count": null,
      "metadata": {
        "id": "QthXY7pmen4i"
      },
      "outputs": [],
      "source": [
        "!pip install statsmodels\n",
        "\n",
        "!pip install catboost"
      ],
      "id": "QthXY7pmen4i"
    },
    {
      "cell_type": "code",
      "execution_count": null,
      "metadata": {
        "id": "J1O01x2Een4k"
      },
      "outputs": [],
      "source": [
        "import numpy as np\n",
        "import pandas as pd\n",
        "pd.options.display.max_rows = 2200\n",
        "pd.options.display.max_columns = 2200\n",
        "import matplotlib.pyplot as plt\n",
        "import seaborn as sns\n",
        "import plotly.graph_objects as go\n",
        "import plotly.offline as pyo\n",
        "import statsmodels.api as sm\n",
        "import ipywidgets as widgets\n",
        "import pylab\n",
        "import warnings\n",
        "import os\n",
        "import sys\n",
        "\n",
        "from sklearn.metrics import mean_absolute_error\n",
        "from sklearn.model_selection import train_test_split\n",
        "\n",
        "\n",
        "\n",
        "from sklearn.experimental import enable_iterative_imputer  # noqa\n",
        "from sklearn.impute import IterativeImputer\n",
        "\n",
        "from sklearn.ensemble import RandomForestRegressor\n",
        "from lightgbm import LGBMRegressor\n",
        "from catboost import CatBoostRegressor\n",
        "from xgboost import XGBRegressor\n",
        "\n",
        "from scipy import stats\n",
        "from IPython.display import display\n",
        "\n",
        "warnings.filterwarnings('ignore')\n",
        "pyo.init_notebook_mode()"
      ],
      "id": "J1O01x2Een4k"
    },
    {
      "cell_type": "markdown",
      "metadata": {
        "id": "64uukBOWen4p"
      },
      "source": [
        "<a id=\"load_df\"/><br/>\n",
        "# HANDLING THE DATASETS"
      ],
      "id": "64uukBOWen4p"
    },
    {
      "cell_type": "code",
      "execution_count": null,
      "metadata": {
        "id": "ILhr7dvhfNiD"
      },
      "outputs": [],
      "source": [
        "#Start by connecting gdrive into the google colab\n",
        "from google.colab import drive\n",
        "drive.mount('/content/gdrive')\n",
        "path = \"/content/gdrive/MyDrive/Insurane_claim\"\n"
      ],
      "id": "ILhr7dvhfNiD"
    },
    {
      "cell_type": "code",
      "execution_count": null,
      "metadata": {
        "id": "n8OVVs2Uen4q"
      },
      "outputs": [],
      "source": [
        "#import df\n",
        "train = pd.read_csv(path+'/train.csv')\n",
        "test=  pd.read_csv(path+'/test.csv')\n",
        "policies = pd.read_csv(path+'/policies.csv')\n",
        "submission = pd.read_csv(path+'/SampleSubmission.csv')"
      ],
      "id": "n8OVVs2Uen4q"
    },
    {
      "cell_type": "code",
      "execution_count": null,
      "metadata": {
        "id": "RCk7NJ9Sen4s"
      },
      "outputs": [],
      "source": [
        "train.shape,policies.shape,test.shape"
      ],
      "id": "RCk7NJ9Sen4s"
    },
    {
      "cell_type": "code",
      "execution_count": null,
      "metadata": {
        "id": "QB1y2kuzen4t"
      },
      "outputs": [],
      "source": [
        "train.head()"
      ],
      "id": "QB1y2kuzen4t"
    },
    {
      "cell_type": "code",
      "execution_count": null,
      "metadata": {
        "id": "9nG6efLfen4v",
        "scrolled": true
      },
      "outputs": [],
      "source": [
        "policies.head()"
      ],
      "id": "9nG6efLfen4v"
    },
    {
      "cell_type": "code",
      "source": [
        "policies.isnull().sum()"
      ],
      "metadata": {
        "id": "k3_KLibQ9agh"
      },
      "id": "k3_KLibQ9agh",
      "execution_count": null,
      "outputs": []
    },
    {
      "cell_type": "code",
      "source": [
        "policies['class_of_business'] = policies['class_of_business'].fillna('cob00031')"
      ],
      "metadata": {
        "id": "JH3ZPeqe9akt"
      },
      "id": "JH3ZPeqe9akt",
      "execution_count": null,
      "outputs": []
    },
    {
      "cell_type": "code",
      "source": [
        "policies['policy_number'].duplicated().sum()"
      ],
      "metadata": {
        "id": "lMF76FDSF16a"
      },
      "id": "lMF76FDSF16a",
      "execution_count": null,
      "outputs": []
    },
    {
      "cell_type": "code",
      "source": [
        "policies.shape"
      ],
      "metadata": {
        "id": "21rXNdIr-XOp"
      },
      "id": "21rXNdIr-XOp",
      "execution_count": null,
      "outputs": []
    },
    {
      "cell_type": "code",
      "source": [
        "#Find the number of days between  policies[\"to_date\"] and policies['from_date']\n",
        "policies['diff_days'] = (pd.to_datetime(policies[\"to_date\"]) - pd.to_datetime(policies['from_date'])).dt.days"
      ],
      "metadata": {
        "id": "q7spoF_v9atJ"
      },
      "id": "q7spoF_v9atJ",
      "execution_count": null,
      "outputs": []
    },
    {
      "cell_type": "code",
      "source": [
        "pols = policies.groupby('policy_number').agg(\n",
        "             prd_min = ('product_code', 'min'),\n",
        "             prd_max = ('product_code', 'max'),\n",
        "             prd_count = ('product_code', 'count'),\n",
        "             ag_min = ('agent', 'min'),\n",
        "             diff_days_min = (\"diff_days\", \"min\"),\n",
        "             diff_days_max = (\"diff_days\", \"max\"),\n",
        "             diff_days_mean = (\"diff_days\", \"mean\"),\n",
        "             ag_max = ('agent', 'max'),\n",
        "             class_min = ('class_of_business', 'min'),\n",
        "             class_max = ('class_of_business', 'max'),).reset_index()"
      ],
      "metadata": {
        "id": "Ij4CXdCY9ave"
      },
      "id": "Ij4CXdCY9ave",
      "execution_count": null,
      "outputs": []
    },
    {
      "cell_type": "code",
      "source": [
        "pols.shape"
      ],
      "metadata": {
        "id": "NOgfppzN9ayd"
      },
      "id": "NOgfppzN9ayd",
      "execution_count": null,
      "outputs": []
    },
    {
      "cell_type": "code",
      "source": [
        "from sklearn.preprocessing import LabelEncoder\n",
        "policy_cat = [\"prd_max\",\"ag_min\", \"prd_min\",\"ag_max\",\"class_min\",\"class_max\"]\n",
        "for col in policy_cat:\n",
        "  lr = LabelEncoder()\n",
        "  pols[col] = lr.fit_transform(pols[col])\n"
      ],
      "metadata": {
        "id": "CaAPPIH4Cp2p"
      },
      "id": "CaAPPIH4Cp2p",
      "execution_count": null,
      "outputs": []
    },
    {
      "cell_type": "code",
      "source": [
        "pols.head()"
      ],
      "metadata": {
        "id": "sGAL9JriCzlH"
      },
      "id": "sGAL9JriCzlH",
      "execution_count": null,
      "outputs": []
    },
    {
      "cell_type": "code",
      "execution_count": null,
      "metadata": {
        "id": "edQmMcB7en4x"
      },
      "outputs": [],
      "source": [
        "ntrain = train.shape[0]\n",
        "ntest = test.shape[0]\n",
        "df = pd.concat((train, test)).reset_index(drop=True)"
      ],
      "id": "edQmMcB7en4x"
    },
    {
      "cell_type": "code",
      "execution_count": null,
      "metadata": {
        "id": "Sae1uuFEen4x"
      },
      "outputs": [],
      "source": [
        "df.info()"
      ],
      "id": "Sae1uuFEen4x"
    },
    {
      "cell_type": "code",
      "execution_count": null,
      "metadata": {
        "id": "20FBVwoGen4x"
      },
      "outputs": [],
      "source": [
        "#check for missing values\n",
        "percent_missing = df.isnull().sum() * 100 / len(df)\n",
        "missing_value_df = pd.DataFrame({'column_name': df.columns,\n",
        "                                 'percent_missing': percent_missing})\n",
        "missing_value_df"
      ],
      "id": "20FBVwoGen4x"
    },
    {
      "cell_type": "code",
      "execution_count": null,
      "metadata": {
        "id": "D9QS0Nigen41"
      },
      "outputs": [],
      "source": [
        "FEATURES=['claim_id', 'policy_number', 'claim_number', 'sum_insured', 'product',\n",
        "       'agent', 'class_of_business', 'risk_type', 'loss_date', 'client_type',\n",
        "       'renewal_frequency', 'primary_cause', 'secondary_cause', 'branch']"
      ],
      "id": "D9QS0Nigen41"
    },
    {
      "cell_type": "code",
      "execution_count": null,
      "metadata": {
        "id": "Uba8A7cren41"
      },
      "outputs": [],
      "source": [
        "df['policy_number'] = df['policy_number'].fillna(df['policy_number'].mode()[0])"
      ],
      "id": "Uba8A7cren41"
    },
    {
      "cell_type": "code",
      "execution_count": null,
      "metadata": {
        "id": "Ss_ao8RFen41"
      },
      "outputs": [],
      "source": [
        "df.isnull().sum()"
      ],
      "id": "Ss_ao8RFen41"
    },
    {
      "cell_type": "code",
      "execution_count": null,
      "metadata": {
        "id": "Z0kzPSIKen42"
      },
      "outputs": [],
      "source": [
        "df.apply(lambda x: len(x.unique()))"
      ],
      "id": "Z0kzPSIKen42"
    },
    {
      "cell_type": "code",
      "execution_count": null,
      "metadata": {
        "id": "Vn-xSXdTen43"
      },
      "outputs": [],
      "source": [
        "merged_df = pd.merge(df,pols,on='policy_number',how ='left')\n",
        "merged_df.shape,df.shape"
      ],
      "id": "Vn-xSXdTen43"
    },
    {
      "cell_type": "code",
      "execution_count": null,
      "metadata": {
        "id": "CS76CbBFen45"
      },
      "outputs": [],
      "source": [
        "merged_df['claim_id'].duplicated().sum()"
      ],
      "id": "CS76CbBFen45"
    },
    {
      "cell_type": "code",
      "execution_count": null,
      "metadata": {
        "id": "D1wwUp7ben45"
      },
      "outputs": [],
      "source": [
        "merged_df.isnull().sum()"
      ],
      "id": "D1wwUp7ben45"
    },
    {
      "cell_type": "markdown",
      "source": [
        "<a id=\"load_package\"/><br/>\n",
        "# FEATURE ENGINEERING"
      ],
      "metadata": {
        "id": "ABDUEzUx7pZt"
      },
      "id": "ABDUEzUx7pZt"
    },
    {
      "cell_type": "code",
      "execution_count": null,
      "metadata": {
        "id": "gbGM-aTben49"
      },
      "outputs": [],
      "source": [
        "date_columns = ['loss_date']\n",
        "for c in date_columns:\n",
        "    df[c] = pd.to_datetime(df[c])\n",
        "    # extract new ceatures crom date\n",
        "    df[c + '_day'] = df[c].dt.day\n",
        "    \n",
        "    df[c + '_year'] = df[c].dt.year\n",
        "    df[c + '_month'] = df[c].dt.month\n",
        "    df[c + '_weekday'] = df[c].dt.weekday\n",
        "    df[c + '_quarter'] = df[c].dt.quarter\n",
        "\n",
        "\n",
        "    # remove original df column\n",
        "    df = df.drop(c, axis=1)"
      ],
      "id": "gbGM-aTben49"
    },
    {
      "cell_type": "code",
      "execution_count": null,
      "metadata": {
        "id": "ReBIMFzel3fy"
      },
      "outputs": [],
      "source": [
        "# Separate train and test df from the combined DataFrame\n",
        "train= df[:ntrain]\n",
        "test = df[ntrain:]\n",
        "\n",
        "# Check the shapes of the split dfset\n",
        "train.shape, test.shape"
      ],
      "id": "ReBIMFzel3fy"
    },
    {
      "cell_type": "code",
      "execution_count": null,
      "metadata": {
        "id": "gMsb2zcJ5Xuq"
      },
      "outputs": [],
      "source": [
        "df['agent'].value_counts().plot(kind='bar')"
      ],
      "id": "gMsb2zcJ5Xuq"
    },
    {
      "cell_type": "code",
      "execution_count": null,
      "metadata": {
        "id": "mhk2-C1k6jiW"
      },
      "outputs": [],
      "source": [
        "def agent_reduce(x):\n",
        "    \n",
        "\n",
        "    ag00037 = [ 'ag00037']\n",
        "    ag00226 = ['ag00226']\n",
        "    ag00068 = ['ag00068']\n",
        "    ag00064 = [ 'ag00064','ag00021','ag00044','ag00083','ag00080']\n",
        "\n",
        "\n",
        "    if x in ag00037:\n",
        "        return 1\n",
        "    elif x in ag00226:\n",
        "        return 2\n",
        "    elif x in ag00068:\n",
        "        return 3\n",
        "    elif x in ag00064:\n",
        "        return 4\n",
        "\n",
        "\n",
        "df['agent_reduced'] = df['agent'].apply(agent_reduce)"
      ],
      "id": "mhk2-C1k6jiW"
    },
    {
      "cell_type": "code",
      "source": [
        "df['class_of_business'].value_counts().plot(kind='bar')"
      ],
      "metadata": {
        "id": "6yPnlRwjNwBM"
      },
      "id": "6yPnlRwjNwBM",
      "execution_count": null,
      "outputs": []
    },
    {
      "cell_type": "code",
      "execution_count": null,
      "metadata": {
        "id": "XWdYBZyk8HnZ"
      },
      "outputs": [],
      "source": [
        "def business_reduce(x):\n",
        "    \n",
        "\n",
        "    ag00037 = [ 'cob00034']\n",
        "    ag00226 = ['cob00009']\n",
        "    ag00068 = ['cob00031','cob00010','cob00022','cob00013','cob00016','cob00023','cob00004','cob00015','cob00026','cob00001','cob00036','cob00003','cob00033','cob00027','cob00012','cob00002','cob00021','cob00029','cob00028','cob00024','cob00035','cob00007','cob00011','cob00030','cob00018','cob00017','cob00038','cob00008','cob00005','cob00006','cob00037','cob00019','cob00014','cob00025','cob00020',]\n",
        "\n",
        "\n",
        "\n",
        "    if x in ag00037:\n",
        "        return 1\n",
        "    elif x in ag00226:\n",
        "        return 2\n",
        "    elif x in ag00068:\n",
        "        return 3\n",
        "\n",
        "\n",
        "df['cob_reduced'] = df['class_of_business'].apply(business_reduce)"
      ],
      "id": "XWdYBZyk8HnZ"
    },
    {
      "cell_type": "code",
      "execution_count": null,
      "metadata": {
        "id": "xFGAnQ9x-XSX"
      },
      "outputs": [],
      "source": [
        "df['risk_type'].value_counts().plot(kind='bar')"
      ],
      "id": "xFGAnQ9x-XSX"
    },
    {
      "cell_type": "code",
      "execution_count": null,
      "metadata": {
        "id": "fuynL8Tc-uS6"
      },
      "outputs": [],
      "source": [
        "def risk_reduce(x):\n",
        "    \n",
        "\n",
        "    ag00037 = [ 'rt00023']\n",
        "    ag00226 = ['rt00032']\n",
        "    ag00068 = ['rt00006',\"rt00033\",\"rt00025\",\"rt00024\",\"rt00050\",\"rt00002\",\"rt00015\",\"rt00013\",\"rt00018\",\"rt00001\",\"rt00027\",\"rt00026\",\"rt00041\",\"rt00039\",\"rt00031\",\"rt00012\",\"rt00040\",\"rt00022\",\"rt00010\",\"rt00043\",\n",
        "\"rt00008\",\"rt00011\",\"rt00005\",\"rt00009\",\"rt00030\",\"rt00003\",\"rt00038\",\"rt00028\",\"rt00034\",\"rt00037\",\"rt00042\",\"rt00035\",\"rt00004\",\"rt00019\",\"rt00029\",\"rt00044\",\"rt00014\",\"rt00017\",\"rt00007\",\"rt00020\",\"rt00049\",\"rt00036\",\"rt00045\",\"rt00016\",\"rt00046\",\"rt00047\",\n",
        "\"rt00021\",\"rt00048\"]\n",
        "\n",
        "\n",
        "\n",
        "    if x in ag00037:\n",
        "        return 1\n",
        "    elif x in ag00226:\n",
        "        return 2\n",
        "    elif x in ag00068:\n",
        "        return 3\n",
        "\n",
        "\n",
        "\n",
        "df['risk_reduced'] = df['risk_type'].apply(risk_reduce)\n",
        "\n",
        "\n",
        "\n"
      ],
      "id": "fuynL8Tc-uS6"
    },
    {
      "cell_type": "code",
      "execution_count": null,
      "metadata": {
        "id": "AEtwK2reAsa6"
      },
      "outputs": [],
      "source": [
        "df['client_type'].value_counts().plot(kind='bar')"
      ],
      "id": "AEtwK2reAsa6"
    },
    {
      "cell_type": "code",
      "execution_count": null,
      "metadata": {
        "id": "ldU0sYCEQk6l"
      },
      "outputs": [],
      "source": [
        "def client_int(x):\n",
        "    \n",
        "\n",
        "    ag00037 = [ 'ct0001']\n",
        "    ag00226 = ['ct0003','ct0002']\n",
        "    ag00068 = []\n",
        "\n",
        "\n",
        "    if x in ag00037:\n",
        "        return 1\n",
        "    elif x in ag00226:\n",
        "        return 2\n",
        "\n",
        "\n",
        "df['client_int'] = df['client_type'].apply(client_int)"
      ],
      "id": "ldU0sYCEQk6l"
    },
    {
      "cell_type": "code",
      "execution_count": null,
      "metadata": {
        "id": "boNUz_zjQ5XI"
      },
      "outputs": [],
      "source": [
        "df['renewal_frequency'].value_counts().plot(kind='bar')"
      ],
      "id": "boNUz_zjQ5XI"
    },
    {
      "cell_type": "code",
      "execution_count": null,
      "metadata": {
        "id": "JvOD5uimBn-w"
      },
      "outputs": [],
      "source": [
        "def renewal_reduce(x):\n",
        "    \n",
        "\n",
        "    ag00037 = [ 'rf0002']\n",
        "    ag00226 = ['rf0001']\n",
        "    ag00068 = ['rf0003','rf0005','rf0004']\n",
        "\n",
        "\n",
        "\n",
        "    if x in ag00037:\n",
        "        return 1\n",
        "    elif x in ag00226:\n",
        "        return 2\n",
        "    elif x in ag00068:\n",
        "        return 3\n",
        " \n",
        "\n",
        "\n",
        "df['renewal_reduced'] = df['renewal_frequency'].apply(renewal_reduce)"
      ],
      "id": "JvOD5uimBn-w"
    },
    {
      "cell_type": "code",
      "execution_count": null,
      "metadata": {
        "id": "TABJLvOIBW6L"
      },
      "outputs": [],
      "source": [
        "df['primary_cause'].value_counts().plot(kind='bar')"
      ],
      "id": "TABJLvOIBW6L"
    },
    {
      "cell_type": "code",
      "execution_count": null,
      "metadata": {
        "id": "o442LTwyCOHf"
      },
      "outputs": [],
      "source": [
        "def primary_reduce(x):\n",
        "    \n",
        "\n",
        "    ag00037 = [ 'pc0007']\n",
        "    ag00226 = [\"pc0002\",\"pc0001\",\"pc0012\",\"pc0015\",\"pc0017\",\"pc0011\",\"pc0004\",\"pc0005\",\"pc0003\",\"pc0013\",\"pc0009\",\"pc0014\",\"pc0018\",\"pc0010\",\"pc0019\",\"pc0006\",\"pc0008\",\"pc0021\",\"pc0016\",\"pc0020\",]\n",
        "\n",
        "\n",
        "\n",
        "    if x in ag00037:\n",
        "        return 1\n",
        "    elif x in ag00226:\n",
        "        return 2\n",
        "\n",
        "\n",
        "\n",
        "df['primary_reduced'] = df['primary_cause'].apply(primary_reduce)\n"
      ],
      "id": "o442LTwyCOHf"
    },
    {
      "cell_type": "code",
      "execution_count": null,
      "metadata": {
        "id": "gSsFLWq1BW9p"
      },
      "outputs": [],
      "source": [
        "df['secondary_cause'].value_counts().plot(kind='bar')\n"
      ],
      "id": "gSsFLWq1BW9p"
    },
    {
      "cell_type": "code",
      "execution_count": null,
      "metadata": {
        "id": "PY6HE8gLDdg9"
      },
      "outputs": [],
      "source": [
        "def secondary_reduce(x):\n",
        "    \n",
        "\n",
        "    ag00037 = [ 'sc00023']\n",
        "    ag00226 = ['sc00021','sc00024']\n",
        "    ag00068 = [\"sc00022\",\"sc00004\",\"sc00003\",\"sc00029\",\"sc00020\",\"sc00025\",\"sc00031\",\"sc00032\",\"sc00008\",\"sc00050\",\"sc00045\",\"sc00048\",\"sc00015\",\"sc00053\",\"sc00049\",\"sc00051\",\"sc00019\",\"sc00007\",\"sc00026\",\"sc00061\",\"sc00017\",\"sc00059\",\"sc00074\",\"sc00030\",\"sc00034\",\"sc00002\",\"sc00013\",\"sc00009\",\"sc00037\",\"sc00018\",\"sc00014\",\"sc00038\",\"sc00012\",\"sc00005\",\"sc00055\",\"sc00039\",\"sc00044\",\"sc00057\",\"sc00040\",\n",
        "\"sc00066\",\"sc00016\",\"sc00064\",\"sc00006\",\"sc00075\",\"sc00054\",\"sc00011\",\"sc00033\",\"sc00056\",\"sc00042\",\"sc00067\",\"sc00063\",\"sc00043\",\"sc00010\",\"sc00036\",\"sc00052\",\"sc00041\",\"sc00035\",\"sc00027\",\"sc00028\",\"sc00058\",\"sc00060\",\"sc00046\",\"sc00065\",\"sc00076\",\"sc00079\",\"sc00068\",\"sc00072\",\"sc00077\",\"sc00071\",\"sc00062\",\"sc00070\",\"sc00047\",\"sc00069\",]\n",
        "    \n",
        "\n",
        "\n",
        "    if x in ag00037:\n",
        "        return 1\n",
        "    elif x in ag00226:\n",
        "        return 2\n",
        "    elif x in ag00068:\n",
        "        return 3\n",
        "\n",
        "\n",
        "\n",
        "df['secondary_reduced'] = df['secondary_cause'].apply(secondary_reduce)\n",
        "\n",
        "\n",
        "\n",
        "\n",
        "\n"
      ],
      "id": "PY6HE8gLDdg9"
    },
    {
      "cell_type": "code",
      "execution_count": null,
      "metadata": {
        "id": "NiOuPn5hBXAi"
      },
      "outputs": [],
      "source": [
        "df['branch'].value_counts().plot(kind='bar')\n"
      ],
      "id": "NiOuPn5hBXAi"
    },
    {
      "cell_type": "code",
      "execution_count": null,
      "metadata": {
        "id": "P8gkVuFmFefA"
      },
      "outputs": [],
      "source": [
        "def branch_reduce(x):\n",
        "    \n",
        "\n",
        "    ag00037 = [ 'br00002']\n",
        "    ag00226 = ['br00001']\n",
        "    ag00068 = [\"br00007\",\"br00005\",\"br00006\",\"br00009\",\"br00008\",\"br00004\",\"br00011\",\"br00003\",\"br00010\",]\n",
        "\n",
        "    \n",
        "\n",
        "\n",
        "    if x in ag00037:\n",
        "        return 1\n",
        "    elif x in ag00226:\n",
        "        return 2\n",
        "    elif x in ag00068:\n",
        "        return 3\n",
        "\n",
        "\n",
        "\n",
        "df['branch_reduced'] = df['branch'].apply(branch_reduce)"
      ],
      "id": "P8gkVuFmFefA"
    },
    {
      "cell_type": "code",
      "source": [
        "df['product'].value_counts().plot(kind='bar')"
      ],
      "metadata": {
        "id": "vtQPUI1IS6CT"
      },
      "id": "vtQPUI1IS6CT",
      "execution_count": null,
      "outputs": []
    },
    {
      "cell_type": "code",
      "source": [
        "\n",
        "\n",
        "\n",
        "def product_reduce(x):\n",
        "    \n",
        "\n",
        "    ag00037 = [ \"prod00015\"]\n",
        "    ag00226 = [\"prod00005\",\"prod00027\",\"prod00028\",\"prod00002\",\"prod00008\",\"prod00012\",\"prod00021\",\"prod00011\",\"prod00018\",\"prod00029\",\"prod00034\",\"prod00031\",\"prod00023\",\"prod00032\",\"prod00001\",\"prod00013\",\"prod00009\",\"prod00030\",\"prod00016\",\"prod00036\",\"prod00025\",\"prod00007\",\"prod00017\",\"prod00022\",\"prod00019\",\"prod00006\",\"prod00033\",\"prod00003\",\"prod00026\",\"prod00014\",\"prod00037\",\"prod00004\",\"prod00024\",\"prod00035\",\"prod00010\",\"prod00020\",]\n",
        "\n",
        "\n",
        "    \n",
        "\n",
        "\n",
        "    if x in ag00037:\n",
        "        return 1\n",
        "    elif x in ag00226:\n",
        "        return 2\n",
        "\n",
        "\n",
        "\n",
        "df['product_reduced'] = df['product'].apply(product_reduce)"
      ],
      "metadata": {
        "id": "sHJZF43oS-bi"
      },
      "id": "sHJZF43oS-bi",
      "execution_count": null,
      "outputs": []
    },
    {
      "cell_type": "markdown",
      "source": [
        "<a id=\"load_package\"/><br/>\n",
        "# OUTLIER DETECTION AND HANDLING"
      ],
      "metadata": {
        "id": "drM0TX1_7uYX"
      },
      "id": "drM0TX1_7uYX"
    },
    {
      "cell_type": "code",
      "execution_count": null,
      "metadata": {
        "id": "RdC0jPqwtDV1"
      },
      "outputs": [],
      "source": [
        "\n",
        "\n",
        "#finding outliers and skewness\n",
        "plt.figure(figsize=(13,7))\n",
        "plt.subplot(2,1,2)\n",
        "sns.boxplot(df['target'])\n",
        "plt.title(\"boxplot of Target\")\n",
        "plt.show()\n",
        "plt.subplot(2,1,2)\n",
        "sns.distplot(df[\"target\"])\n",
        "plt.show()\n",
        "plt.figure(figsize=(13,7))\n",
        "plt.subplot(2,1,2)\n",
        "sns.boxplot(df['sum_insured'])\n",
        "plt.title(\"boxplot of sum_insured\")\n",
        "plt.show()\n",
        "plt.subplot(2,1,2)\n",
        "sns.distplot(df[\"sum_insured\"])\n",
        "plt.title(\"distplot of sum_insured\")\n",
        "plt.show()\n",
        "plt.figure(figsize=(13,7))\n",
        "plt.subplot(2,1,2)\n",
        "sns.boxplot(df['loss_date_year'])\n",
        "plt.title(\"boxplot of to_date_year\")\n",
        "plt.show()\n",
        "plt.subplot(2,1,2)\n",
        "sns.distplot(df[\"loss_date_day\"])\n",
        "plt.title(\"distplot of to_date_day\")\n",
        "plt.show()\n",
        "plt.figure(figsize=(13,7))\n",
        "plt.subplot(2,1,2)\n",
        "sns.boxplot(df['loss_date_month'])\n",
        "plt.title(\"boxplot of from_date_month\")\n",
        "plt.show()\n"
      ],
      "id": "RdC0jPqwtDV1"
    },
    {
      "cell_type": "code",
      "source": [
        "df[['target','sum_insured']].describe()\n"
      ],
      "metadata": {
        "id": "WuiJl1faFgKq"
      },
      "id": "WuiJl1faFgKq",
      "execution_count": null,
      "outputs": []
    },
    {
      "cell_type": "code",
      "execution_count": null,
      "metadata": {
        "id": "ITNIjJfkJ86d"
      },
      "outputs": [],
      "source": [
        "outliers = ['target','sum_insured']\n",
        "\n",
        "df[outliers].describe(percentiles=[0.10,0.90])"
      ],
      "id": "ITNIjJfkJ86d"
    },
    {
      "cell_type": "code",
      "execution_count": null,
      "metadata": {
        "id": "5viOmD-QlV5l"
      },
      "outputs": [],
      "source": [
        "df['target'].loc[df['target'] > 7.422626e+04]  = 7.422626e+04\t\n",
        "df['sum_insured'].loc[df['sum_insured'] > 5.753700e+06]  = 5.753700e+06\n",
        "\n",
        "\n"
      ],
      "id": "5viOmD-QlV5l"
    },
    {
      "cell_type": "code",
      "source": [
        "sns.boxplot(df['target'])"
      ],
      "metadata": {
        "id": "T0REkR6kSMTD"
      },
      "id": "T0REkR6kSMTD",
      "execution_count": null,
      "outputs": []
    },
    {
      "cell_type": "code",
      "source": [
        "sns.boxplot(df['sum_insured'])"
      ],
      "metadata": {
        "id": "NdIh_C5ZSTK2"
      },
      "id": "NdIh_C5ZSTK2",
      "execution_count": null,
      "outputs": []
    },
    {
      "cell_type": "markdown",
      "source": [
        "<a id=\"load_package\"/><br/>\n",
        "#MORE FEATURE ENGINEERING"
      ],
      "metadata": {
        "id": "nlTuTcLH8DZa"
      },
      "id": "nlTuTcLH8DZa"
    },
    {
      "cell_type": "code",
      "execution_count": null,
      "metadata": {
        "id": "f0SLY8Q8PAeF"
      },
      "outputs": [],
      "source": [
        "df[\"causes\"] = df[\"secondary_reduced\"] + df[\"primary_reduced\"]\n",
        "df[\"risk_business\"] = df[\"risk_reduced\"] * df[\"cob_reduced\"]\n",
        "df['risk_product'] = df['risk_reduced'] * df['product_reduced']\n",
        "df['risk_business_product'] = df['risk_reduced'] + df['cob_reduced'] + df['product_reduced']\n",
        "\n",
        "df[\"branch_agency\"] =  df[\"branch_reduced\"]*df[\"agent_reduced\"]\n",
        "df['client_risk'] = df['client_int']*df['risk_reduced']\n",
        "df['client_business'] = df['client_int'] + df['cob_reduced']\n",
        "df['client_business_risk'] = df['client_int'] + df['cob_reduced'] + df['risk_reduced']\n",
        "df['product_client_business_risk'] = df['product_reduced'] + df['client_business_risk']\n",
        "\n",
        "df['renewals_client_business_risk'] = df['renewal_reduced'] * df['client_business_risk']\n",
        "\n",
        "df['sum_insured_cause'] = df['sum_insured'] / df['causes']\n",
        "df['sum_insured_product'] = df['sum_insured'] / df['product_reduced']\n",
        "df['sum_insured_client'] = df['sum_insured'] / df['client_int']\n",
        "df['sum_insured_risk'] = df['sum_insured'] / df['risk_reduced']\n",
        "df['sum_insured_business'] = df['sum_insured'] / df['cob_reduced']\n",
        "df['sum_insured_agent'] = df['sum_insured'] / df['agent_reduced']\n",
        "df['sum_insured_branch'] = df['sum_insured'] / df['branch_reduced']\n",
        "df['sum_insured_renewals'] = df['sum_insured'] / df['renewal_reduced']\n",
        "\n",
        "df['sum_insured_year'] = df['sum_insured'] / df['loss_date_year']\n",
        "df['sum_insured_year'] = df['sum_insured'] / df['loss_date_month']\n",
        "df['sum_insured_year'] = df['sum_insured'] / df['loss_date_quarter']\n",
        "df['sum_insured_year'] = df['sum_insured'] / df['loss_date_weekday']\n",
        "df['sum_insured_year'] = df['sum_insured'] / df['loss_date_day']\n",
        "\n",
        "df['renewal_product'] = df['renewal_reduced'] * df['product_reduced']\n",
        "df['renewal_business'] = df['renewal_reduced'] * df['cob_reduced']\n",
        "df['renewal_risk'] = df['renewal_reduced'] * df['risk_reduced']\n",
        "df['renewal_type'] = df['renewal_reduced'] * df['client_int']\n",
        "\n",
        "df['renewal_type'] = df['renewal_reduced'] * df['branch_agency']\n",
        "\n",
        "df['full_loss_date'] = df['loss_date_day']+df['loss_date_month']+df['loss_date_year']\n",
        "df['loss_month_year'] = df['loss_date_month'] + df['loss_date_year']\n",
        "\n",
        "\n",
        "\n"
      ],
      "id": "f0SLY8Q8PAeF"
    },
    {
      "cell_type": "code",
      "execution_count": null,
      "metadata": {
        "id": "jfd0fSNpTYFJ"
      },
      "outputs": [],
      "source": [
        "object_df=df.select_dtypes(include=[object])\n",
        "object_df.columns"
      ],
      "id": "jfd0fSNpTYFJ"
    },
    {
      "cell_type": "code",
      "source": [
        "loss_date = df.groupby('loss_date_year').mean()\n",
        "# loss_date.drop(['target','claim_id', 'policies_number', 'claim_number', 'product', 'agent',\n",
        "#        'class_of_business', 'risk_type', 'client_type', 'renewal_frequency',\n",
        "#        'primary_cause', 'secondary_cause', 'branch'], 1, inplace = True)\n",
        "cols = []\n",
        "for i in loss_date.columns:\n",
        "    if i != 'loss_date_year':\n",
        "        loss_date[i+'_loss_date_mean_all'] = loss_date[i]\n",
        "        loss_date.drop(i, 1, inplace = True)\n",
        "        cols.append(i+'_ten_mean_all')\n",
        "\n",
        "df = pd.merge(df, loss_date, on='loss_date_year', how = 'left')\n"
      ],
      "metadata": {
        "id": "uL6teKi3WRvC"
      },
      "id": "uL6teKi3WRvC",
      "execution_count": null,
      "outputs": []
    },
    {
      "cell_type": "code",
      "source": [
        "df.head()"
      ],
      "metadata": {
        "id": "YN7BiGzDYOT3"
      },
      "id": "YN7BiGzDYOT3",
      "execution_count": null,
      "outputs": []
    },
    {
      "cell_type": "code",
      "execution_count": null,
      "metadata": {
        "id": "Vpm46Je2TASU"
      },
      "outputs": [],
      "source": [
        "object_cols = ['policy_number', 'claim_number', 'product', 'agent',\n",
        "       'class_of_business', 'risk_type', 'client_type', 'renewal_frequency',\n",
        "       'primary_cause', 'secondary_cause', 'branch']\n",
        "from sklearn.preprocessing import LabelEncoder\n",
        "le = LabelEncoder()\n",
        "df[object_cols] = df[object_cols].apply(le.fit_transform)"
      ],
      "id": "Vpm46Je2TASU"
    },
    {
      "cell_type": "code",
      "source": [
        "freq_columns = [\"sum_insured\",\"secondary_reduced\",\"cob_reduced\",\"renewal_reduced\",\"risk_reduced\",\"product_reduced\",\"primary_reduced\",\"agent_reduced\",\"branch_reduced\",]\n",
        "for col in freq_columns:\n",
        "   df[col+'_freq'] = df[col].map(df[col].value_counts().to_dict())/len(df)"
      ],
      "metadata": {
        "id": "sf1u8TBXajmj"
      },
      "id": "sf1u8TBXajmj",
      "execution_count": null,
      "outputs": []
    },
    {
      "cell_type": "code",
      "execution_count": null,
      "metadata": {
        "id": "LFzNmZf0UmDS"
      },
      "outputs": [],
      "source": [
        "df.head()"
      ],
      "id": "LFzNmZf0UmDS"
    },
    {
      "cell_type": "code",
      "execution_count": null,
      "metadata": {
        "id": "gn-dBwUxVoiM"
      },
      "outputs": [],
      "source": [
        "# df = pd.get_dummies(df, columns=['client_type'])"
      ],
      "id": "gn-dBwUxVoiM"
    },
    {
      "cell_type": "code",
      "execution_count": null,
      "metadata": {
        "id": "wrbZXPzGWRiK"
      },
      "outputs": [],
      "source": [
        "df.shape"
      ],
      "id": "wrbZXPzGWRiK"
    },
    {
      "cell_type": "markdown",
      "source": [
        "<a id=\"load_package\"/><br/>\n",
        "# TRAIN TEST SEPARATION"
      ],
      "metadata": {
        "id": "Gb55rG1E8OJ2"
      },
      "id": "Gb55rG1E8OJ2"
    },
    {
      "cell_type": "code",
      "execution_count": null,
      "metadata": {
        "id": "-KMwMVnZWexm"
      },
      "outputs": [],
      "source": [
        "# Separate train and test data from the combined dataframe\n",
        "train = df[:ntrain]\n",
        "test = df[ntrain:]\n",
        "\n",
        "# Check the shapes of the split dataset\n",
        "train.shape, test.shape"
      ],
      "id": "-KMwMVnZWexm"
    },
    {
      "cell_type": "code",
      "source": [
        "train_df= train\n",
        "test_df = test"
      ],
      "metadata": {
        "id": "BV_K_s-lsMKa"
      },
      "id": "BV_K_s-lsMKa",
      "execution_count": null,
      "outputs": []
    },
    {
      "cell_type": "markdown",
      "source": [
        "<a id=\"load_package\"/><br/>\n",
        "## PAY ATTENTION TO THIS ATTRIBUTE"
      ],
      "metadata": {
        "id": "r30R8Yjh8S5t"
      },
      "id": "r30R8Yjh8S5t"
    },
    {
      "cell_type": "code",
      "source": [
        "train_df['loss_month_year'].value_counts().plot(kind='bar')"
      ],
      "metadata": {
        "id": "wFttISsck94c"
      },
      "id": "wFttISsck94c",
      "execution_count": null,
      "outputs": []
    },
    {
      "cell_type": "code",
      "source": [
        "train_df['loss_month_year'].value_counts()"
      ],
      "metadata": {
        "id": "O5VG2T42qV8r"
      },
      "id": "O5VG2T42qV8r",
      "execution_count": null,
      "outputs": []
    },
    {
      "cell_type": "code",
      "source": [
        "test_df['loss_month_year'].value_counts().plot(kind='bar')"
      ],
      "metadata": {
        "id": "CQ51pV_GlO96"
      },
      "id": "CQ51pV_GlO96",
      "execution_count": null,
      "outputs": []
    },
    {
      "cell_type": "markdown",
      "source": [
        "We are going to use this field in our stratified kfold cross validation scheme since it has almost balanced points in both test and train"
      ],
      "metadata": {
        "id": "HLIwy5_HMtkp"
      },
      "id": "HLIwy5_HMtkp"
    },
    {
      "cell_type": "markdown",
      "source": [
        "<a id=\"load_package\"/><br/>\n",
        "# FEATURE SELECTION"
      ],
      "metadata": {
        "id": "FUtBZl808dQQ"
      },
      "id": "FUtBZl808dQQ"
    },
    {
      "cell_type": "markdown",
      "source": [
        ""
      ],
      "metadata": {
        "id": "eJGhKryO8dZ4"
      },
      "id": "eJGhKryO8dZ4"
    },
    {
      "cell_type": "code",
      "execution_count": null,
      "metadata": {
        "id": "lILlM2GoWjbc"
      },
      "outputs": [],
      "source": [
        "# Select main columns to be used in training\n",
        "main_cols = df.columns.difference(['claim_id','claim_number','policies_number','target'])\n",
        "X = train_df[main_cols]\n",
        "y = train_df.target\n",
        "# Create the model with several hyperparameters\n",
        "model = CatBoostRegressor(random_state = 42)\n",
        "#\n",
        "# Split into training and validation set\n",
        "import random\n",
        "random.seed(123)\n",
        "#th\n",
        "train_features, valid_features, train_y, valid_y = train_test_split(X, y, test_size = 0.2, random_state = 47,stratify=train_df[\"loss_month_year\"])\n",
        "# Train using early stopping\n",
        "model.fit(train_features, train_y, \n",
        "         )"
      ],
      "id": "lILlM2GoWjbc"
    },
    {
      "cell_type": "code",
      "execution_count": null,
      "metadata": {
        "id": "BPU1F7CzWneI"
      },
      "outputs": [],
      "source": [
        "pd.options.display.max_rows = 2200\n",
        "#define a function to create variable importance dataframe\n",
        "def get_lgbm_varimp(model, train_columns, max_vars=2000):\n",
        "    \n",
        "    # Scikit-learn API LGBMClassifier or LGBMRegressor was fitted, \n",
        "    # so using feature_importances_ property\n",
        "    feature_importances_perc = (model.feature_importances_ / sum(model.feature_importances_)) * 100\n",
        "    cv_varimp_df = pd.DataFrame([train_columns, feature_importances_perc]).T\n",
        "\n",
        "    cv_varimp_df.columns = ['feature_name', 'varimp (%)']\n",
        "\n",
        "    cv_varimp_df.sort_values(by='varimp (%)', ascending=False, inplace=True)\n",
        "\n",
        "    cv_varimp_df = cv_varimp_df.iloc[0:max_vars]   \n",
        "\n",
        "    return cv_varimp_df\n",
        "#\n",
        "get_lgbm_varimp(model, X.columns)"
      ],
      "id": "BPU1F7CzWneI"
    },
    {
      "cell_type": "code",
      "execution_count": null,
      "metadata": {
        "id": "jDQpDUpPWqtY"
      },
      "outputs": [],
      "source": [
        "#drop irrelevant columns/variables from X features\n",
        "columns = [\n",
        "\n",
        "]\n",
        "#\n",
        "X.drop(columns, inplace=True, axis=1)"
      ],
      "id": "jDQpDUpPWqtY"
    },
    {
      "cell_type": "code",
      "execution_count": null,
      "metadata": {
        "id": "7l7Y5KpKWxot"
      },
      "outputs": [],
      "source": [
        "#Dropping highly correlated attributes \n",
        "corr = X.corr()\n",
        "# sns.heatmap(corr)\n",
        "#\n",
        "columns = np.full((corr.shape[0],), True, dtype=bool)\n",
        "for i in range(corr.shape[0]):\n",
        "    for j in range(i+1, corr.shape[0]):\n",
        "        if corr.iloc[i,j] >= 0.9:\n",
        "            if columns[j]:\n",
        "                columns[j] = False\n",
        "selected_columns = X.columns[columns]\n",
        "X = X[selected_columns]"
      ],
      "id": "7l7Y5KpKWxot"
    },
    {
      "cell_type": "code",
      "execution_count": null,
      "metadata": {
        "id": "0cyIBWDlYjl_"
      },
      "outputs": [],
      "source": [
        "train_df = train_df[selected_columns]\n",
        "test_df = test_df[selected_columns]\n",
        "train_df.shape,test_df.shape"
      ],
      "id": "0cyIBWDlYjl_"
    },
    {
      "cell_type": "code",
      "source": [
        "selected_columns"
      ],
      "metadata": {
        "id": "4AC4Eqk3S42r"
      },
      "id": "4AC4Eqk3S42r",
      "execution_count": null,
      "outputs": []
    },
    {
      "cell_type": "code",
      "execution_count": null,
      "metadata": {
        "id": "z7g5_pBXYth9"
      },
      "outputs": [],
      "source": [
        "# Separate train and test data from the combined dataframe\n",
        "train = df[:ntrain]\n",
        "test = df[ntrain:]\n",
        "\n",
        "# Check the shapes of the split dataset\n",
        "train.shape, test.shape"
      ],
      "id": "z7g5_pBXYth9"
    },
    {
      "cell_type": "code",
      "execution_count": null,
      "metadata": {
        "id": "HEoO4L9_ZzgZ"
      },
      "outputs": [],
      "source": [
        "train_df['target'] = train['target']\n",
        "train_df['claim_id'] = train['claim_id']\n",
        "train_df['loss_month_year'] = train['loss_month_year']\n",
        "test_df['claim_id'] = test['claim_id']\n",
        "test_df['loss_month_year'] = test['loss_month_year']"
      ],
      "id": "HEoO4L9_ZzgZ"
    },
    {
      "cell_type": "code",
      "execution_count": null,
      "metadata": {
        "id": "btMswbAoZ1qg"
      },
      "outputs": [],
      "source": [
        "train_df.shape, test_df.shape"
      ],
      "id": "btMswbAoZ1qg"
    },
    {
      "cell_type": "code",
      "execution_count": null,
      "metadata": {
        "id": "en5wnubhanIi"
      },
      "outputs": [],
      "source": [
        "train_df.to_csv(path+\"/finaltrainimproved.csv\", index=False)\n",
        "test_df.to_csv(path+\"/finaltestimproved.csv\", index=False)"
      ],
      "id": "en5wnubhanIi"
    },
    {
      "cell_type": "markdown",
      "source": [
        "<a id=\"load_package\"/><br/>\n",
        "# MODELLING AND SUBMISSION"
      ],
      "metadata": {
        "id": "x36Cl6qi8lm0"
      },
      "id": "x36Cl6qi8lm0"
    },
    {
      "cell_type": "markdown",
      "source": [
        ""
      ],
      "metadata": {
        "id": "3HfIKbOl8lxP"
      },
      "id": "3HfIKbOl8lxP"
    },
    {
      "cell_type": "code",
      "execution_count": null,
      "metadata": {
        "id": "MAodyGocbTfI"
      },
      "outputs": [],
      "source": [
        "from sklearn.model_selection import StratifiedKFold\n"
      ],
      "id": "MAodyGocbTfI"
    },
    {
      "cell_type": "code",
      "execution_count": null,
      "metadata": {
        "id": "hQrky_drdbJm"
      },
      "outputs": [],
      "source": [
        "train = train_df\n",
        "target = train.target.copy()\n",
        "train.drop(['target','claim_id'], axis=1, inplace=True)\n",
        "test = test_df\n",
        "test.drop(['claim_id'], axis=1, inplace=True)"
      ],
      "id": "hQrky_drdbJm"
    },
    {
      "cell_type": "code",
      "execution_count": null,
      "metadata": {
        "id": "XJPqFuT-edQq"
      },
      "outputs": [],
      "source": [
        "train.shape,test.shape"
      ],
      "id": "XJPqFuT-edQq"
    },
    {
      "cell_type": "code",
      "execution_count": null,
      "metadata": {
        "id": "rDrAYKUab8xw"
      },
      "outputs": [],
      "source": [
        "class func() :   \n",
        "    def __init__(self, train, label, test, model, model_type, random_state):\n",
        "        self.train, self.label, self.test = train, label, test\n",
        "        self.model, self.model_type = model, model_type\n",
        "        self.random_state = random_state\n",
        "        \n",
        "        assert self.model_type in ('catboost','xgboost'), 'Incorrect model_type'\n",
        "    def __call__(self, plot = True):\n",
        "        return self.fit(plot)\n",
        "\n",
        "    def fit(self, plot):\n",
        "        def catboost_fit(X_train, X_test, y_train, y_test):\n",
        "            self.model.fit(X_train,y_train,eval_set=[(X_test,y_test)],early_stopping_rounds=500,\n",
        "                           verbose=50,use_best_model=True)\n",
        "            x_test_predict = self.model.predict(X_test)\n",
        "            x_train_predict = self.model.predict(X_train)\n",
        "            self.val_p[test_index] = x_test_predict\n",
        "            self.test_p += self.model.predict(self.test)\n",
        "            return x_test_predict, x_train_predict\n",
        "\n",
        "\n",
        "        def xgb_fit(X_train, X_test, y_train, y_test):\n",
        "            self.model.fit(X_train,y_train,eval_set=[(X_test,y_test)],early_stopping_rounds=500,\n",
        "                           verbose=50,use_best_model=True)\n",
        "            x_test_predict = self.model.predict(X_test)\n",
        "            x_train_predict = self.model.predict(X_train)\n",
        "            self.val_p[test_index] = x_test_predict\n",
        "            self.test_p += self.model.predict(self.test)\n",
        "            return x_test_predict, x_train_predict\n",
        "\n",
        "\n",
        "        self.val_p = np.zeros(self.train.shape[0])\n",
        "        mean_val = []\n",
        "        mean_train = []\n",
        "        self.test_p = np.zeros(self.test.shape[0])\n",
        "        splits = 14\n",
        "        kf = StratifiedKFold(n_splits = splits,shuffle = True, random_state=42)\n",
        "        for fold_count, (train_index, test_index) in enumerate(kf.split(self.train, self.train['loss_month_year'])):\n",
        "            X_train,X_test = self.train.iloc[train_index],self.train.iloc[test_index]\n",
        "            y_train,y_test = self.label.iloc[train_index],self.label.iloc[test_index]\n",
        "\n",
        "            print(f\"================================Fold{fold_count+1}====================================\")\n",
        "            if self.model_type == 'catboost': x_test_predict, x_train_predict = catboost_fit(X_train, X_test, y_train, y_test)\n",
        "            elif self.model_type == 'xgboost': x_test_predict, x_train_predict = xgb_fit(X_train, X_test, y_train, y_test)\n",
        "\n",
        "            print('\\nValidation scores', mean_absolute_error(y_test, x_test_predict), )\n",
        "            print('Training scores', mean_absolute_error(y_train, x_train_predict),)\n",
        "            mean_val.append(mean_absolute_error(y_test, x_test_predict))\n",
        "            mean_train.append(mean_absolute_error(y_train, x_train_predict))\n",
        "\n",
        "        if plot:\n",
        "            feat_imp = pd.DataFrame(sorted(zip(self.model.feature_importances_,self.train.columns)), columns=['Value','Feature'])\n",
        "            plt.figure(figsize=(30,25))\n",
        "            sns.barplot(x=\"Value\", y=\"Feature\", data=feat_imp.sort_values(by=\"Value\", ascending=False))\n",
        "            plt.ylabel('Feature Importance Score')\n",
        "            plt.show()\n",
        "        print(np.mean(mean_val), np.mean(mean_train), np.std(mean_val))\n",
        "        return self.val_p, self.test_p/splits, self.model"
      ],
      "id": "rDrAYKUab8xw"
    },
    {
      "cell_type": "code",
      "execution_count": null,
      "metadata": {
        "id": "8eyGYbsWdNKX"
      },
      "outputs": [],
      "source": [
        "catboost = CatBoostRegressor(n_estimators=10000, max_depth=6, eval_metric='MAE', reg_lambda = 370, )#task_type=\"GPU\", devices='0:1'\n",
        "\n",
        "func_= func(train, target, test, catboost, 'catboost', 16)\n",
        "val_p1, test_p1, model1 = func_()"
      ],
      "id": "8eyGYbsWdNKX"
    },
    {
      "cell_type": "code",
      "execution_count": null,
      "metadata": {
        "id": "_Ggtm5uIeJo2"
      },
      "outputs": [],
      "source": [
        "catboost= CatBoostRegressor(bootstrap_type='Bernoulli', \n",
        "                              iterations=10000, silent=True, eval_metric='MAE')#,task_type=\"GPU\", devices='0:1')\n",
        "func_= func(train, target, test, catboost, 'catboost', 32)\n",
        "val_p5, test_p5, model5 = func_()"
      ],
      "id": "_Ggtm5uIeJo2"
    },
    {
      "cell_type": "code",
      "execution_count": null,
      "metadata": {
        "id": "Y51M8eA3gXGc"
      },
      "outputs": [],
      "source": [
        "from sklearn.linear_model import  LinearRegression, Ridge, Lasso\n",
        "stack = np.column_stack((val_p1,val_p5))\n",
        "\n",
        "stack_p = np.column_stack((test_p1,test_p5))\n",
        "\n",
        "predict = LinearRegression().fit(stack, target).predict(stack_p)"
      ],
      "id": "Y51M8eA3gXGc"
    },
    {
      "cell_type": "code",
      "execution_count": null,
      "metadata": {
        "id": "ZkvVLU3ogZ1T"
      },
      "outputs": [],
      "source": [
        "submission['target'] = predict\n",
        "submission.to_csv(path+ '/improved_catboost1.csv',index=False)"
      ],
      "id": "ZkvVLU3ogZ1T"
    },
    {
      "cell_type": "code",
      "execution_count": null,
      "metadata": {
        "id": "6iW2QbarhZey"
      },
      "outputs": [],
      "source": [
        "submission.head()"
      ],
      "id": "6iW2QbarhZey"
    },
    {
      "cell_type": "code",
      "source": [
        "xgb_params1={'learning_rate': 0.03513119012633861, 'reg_lambda': 0.024374560039878566, 'reg_alpha': 217.32638594124083, 'subsample': 0.7682796533669832, 'colsample_bytree': 0.8491293374636897, 'max_depth': 6, 'random_state': 114, 'min_child_samples': 2, 'subsample_freq': 3}\n",
        "xgb_params ={'learning_rate': 0.04402849326486322, 'reg_lambda': 0.00022496938162908366, 'reg_alpha': 0.0003614188253841325, 'subsample': 0.4276811873056746, 'colsample_bytree': 0.7670470835702196, 'max_depth': 5, 'min_child_samples': 1, 'subsample_freq': 7,'random_state':42}"
      ],
      "metadata": {
        "id": "fYdWaO0viZlz"
      },
      "id": "fYdWaO0viZlz",
      "execution_count": null,
      "outputs": []
    },
    {
      "cell_type": "code",
      "source": [
        "xgboost = XGBRegressor( n_jobs=4,\n",
        "        **xgb_params1, eval_metric='mae',n_estimators=10000 )\n",
        "\n",
        "func_= func(train, target, test, catboost, 'xgboost', 114)\n",
        "val_p2, test_p2, model2 = func_()"
      ],
      "metadata": {
        "id": "BH5LP0YMfVPj"
      },
      "id": "BH5LP0YMfVPj",
      "execution_count": null,
      "outputs": []
    },
    {
      "cell_type": "code",
      "source": [
        "xgboost= XGBRegressor( n_jobs=4,\n",
        "        **xgb_params,eval_metric='mae',n_estimators=7000)#,task_type=\"GPU\", devices='0:1')\n",
        "func_= func(train, target, test, catboost, 'xgboost', 42)\n",
        "val_p3, test_p3, model3 = func_()"
      ],
      "metadata": {
        "id": "Rsmftl2xgH-Q"
      },
      "id": "Rsmftl2xgH-Q",
      "execution_count": null,
      "outputs": []
    },
    {
      "cell_type": "code",
      "source": [
        "from sklearn.linear_model import  LinearRegression, Ridge, Lasso\n",
        "stack = np.column_stack((val_p2,val_p3))\n",
        "\n",
        "stack_p = np.column_stack((test_p2,test_p3))\n",
        "\n",
        "predict = LinearRegression().fit(stack, target).predict(stack_p)"
      ],
      "metadata": {
        "id": "QUnE3Ld3o9JL"
      },
      "id": "QUnE3Ld3o9JL",
      "execution_count": null,
      "outputs": []
    },
    {
      "cell_type": "code",
      "source": [
        "submission['target'] = predict\n",
        "submission.to_csv(path+ '/improved_xgboost1.csv',index=False)"
      ],
      "metadata": {
        "id": "eS40Ahm9pBsp"
      },
      "id": "eS40Ahm9pBsp",
      "execution_count": null,
      "outputs": []
    },
    {
      "cell_type": "code",
      "source": [
        "from sklearn.linear_model import  LinearRegression, Ridge, Lasso\n",
        "stack = np.column_stack((val_p2,val_p3,val_p1,val_p5))\n",
        "\n",
        "stack_p = np.column_stack((test_p2,test_p3,test_p1,test_p5))\n",
        "\n",
        "predict = LinearRegression().fit(stack, target).predict(stack_p)"
      ],
      "metadata": {
        "id": "O0V77IyGpLAM"
      },
      "id": "O0V77IyGpLAM",
      "execution_count": null,
      "outputs": []
    },
    {
      "cell_type": "code",
      "source": [
        "submission['target'] = predict\n",
        "submission.to_csv(path+ '/improved_total1.csv',index=False)"
      ],
      "metadata": {
        "id": "QEwfwD1gscJj"
      },
      "id": "QEwfwD1gscJj",
      "execution_count": null,
      "outputs": []
    },
    {
      "cell_type": "code",
      "source": [
        ""
      ],
      "metadata": {
        "id": "II8IELBIsrkR"
      },
      "id": "II8IELBIsrkR",
      "execution_count": null,
      "outputs": []
    }
  ],
  "metadata": {
    "colab": {
      "collapsed_sections": [],
      "name": "IMPROVED_Insurance_claim_catboost.ipynb",
      "provenance": []
    },
    "kernelspec": {
      "display_name": "Python 3",
      "language": "python",
      "name": "python3"
    },
    "language_info": {
      "codemirror_mode": {
        "name": "ipython",
        "version": 3
      },
      "file_extension": ".py",
      "mimetype": "text/x-python",
      "name": "python",
      "nbconvert_exporter": "python",
      "pygments_lexer": "ipython3",
      "version": "3.7.3"
    },
    "papermill": {
      "default_parameters": {},
      "duration": 51.371682,
      "end_time": "2022-01-20T15:22:24.463384",
      "environment_variables": {},
      "exception": null,
      "input_path": "__notebook__.ipynb",
      "output_path": "__notebook__.ipynb",
      "parameters": {},
      "start_time": "2022-01-20T15:21:33.091702",
      "version": "2.3.3"
    }
  },
  "nbformat": 4,
  "nbformat_minor": 5
}